{
 "cells": [
  {
   "cell_type": "markdown",
   "metadata": {},
   "source": [
    "# Ejercicio 1"
   ]
  },
  {
   "cell_type": "code",
   "execution_count": 12,
   "metadata": {},
   "outputs": [
    {
     "name": "stdout",
     "output_type": "stream",
     "text": [
      "average,\n",
      "temperature\n"
     ]
    }
   ],
   "source": [
    "text = \"\"\" Interesting facts about the Moon. The Moon is Earth's only satellite. There are several interesting facts about the Moon and how it affects life here on Earth. \\n \"On average, the Moon moves 4cm away from the Earth every year. This yearly drift is not significant enough to cause immediate effects on Earth. The highest daylight temperature of the Moon is 127 C.\" \"\"\"\n",
    "#print(text) solo para comprobar de que el texto se coloco de manera correcta\n",
    "\n",
    "t = text.split()\n",
    "palabras_claves = ['average', 'temperature', 'distance']\n",
    "for oracion in t: #coloca en 'oracion' cada una de las palabras del vector 't' en cada ciclo del for\n",
    "    for palabra_clave in palabras_claves: #coloca en 'palabra_clave' cada una de las palabras en el vector 'palabras_claves'\n",
    "        if palabra_clave in oracion: #condicional de de que haya una palabra clave en la oracion\n",
    "            print(oracion) #imprime las palabras claves en caso de esten en el texto (text) lo coloca en orden aun cuando no se encuentre en orden en el vector\n",
    "            break #detiene el programa"
   ]
  },
  {
   "cell_type": "markdown",
   "metadata": {},
   "source": [
    "codigo modificado"
   ]
  },
  {
   "cell_type": "code",
   "execution_count": 16,
   "metadata": {},
   "outputs": [
    {
     "name": "stdout",
     "output_type": "stream",
     "text": [
      "celcius.\"\n"
     ]
    }
   ],
   "source": [
    "p_c = ['C'] #cambiamos la palabra clave por 'C'\n",
    "for oracion in t: #coloca en 'oracion' cada una de las palabras del vector 't' en cada ciclo del for\n",
    "    for palabra_clave in p_c: #coloca en 'palabra_clave' cada una de las palabras en el vector 'p_c'\n",
    "        if palabra_clave in oracion: #condicional de de que haya una palabra clave en la oracion\n",
    "            print(oracion.replace('C', 'celcius')) #imprime en este caso la palabra clave, solo que se coloco un 'replace' lo que significa que cambia la palabra clave por 'celcius'\n",
    "            break #detiene el programa"
   ]
  },
  {
   "cell_type": "markdown",
   "metadata": {},
   "source": [
    "# Ejercicio 2"
   ]
  },
  {
   "cell_type": "code",
   "execution_count": 63,
   "metadata": {},
   "outputs": [
    {
     "name": "stdout",
     "output_type": "stream",
     "text": [
      "Gravity Facts About The Moon \n",
      " -------------------------------------------------- \n",
      "Planet name: Earth \n",
      "Gravity on Moon: 1.6199999999999999 m/s2\n"
     ]
    }
   ],
   "source": [
    "#datos importantes\n",
    "name = \"Moon\"\n",
    "gravity = 0.00162 # in kms\n",
    "planet = \"Earth\"\n",
    "titulo = f'Gravity facts about the {name}' #hay otra manera de escribirlo, utilizando .format() donde dentro del parentesis ponemos la palabra de interes\n",
    "plantilla = f\"{'-'*50} \\nPlanet name: {planet} \\nGravity on {name}: {gravity*1000} m/s2\" #lo mismo de arriba, \\n nos sirve para dar un \"enter\"\n",
    "print(f'{titulo.title()} \\n {plantilla}')\n"
   ]
  },
  {
   "cell_type": "code",
   "execution_count": 62,
   "metadata": {},
   "outputs": [
    {
     "name": "stdout",
     "output_type": "stream",
     "text": [
      "Gravity Facts About The Moon \n",
      " -------------------------------------------------- \n",
      "Planet name: Earth \n",
      "Gravity on Moon: 1.6199999999999999 m/s2\n",
      "Gravity Facts About The Moon \n",
      " -------------------------------------------------- \n",
      "Planet name: Earth \n",
      "Gravity on Moon: 1.6199999999999999 m/s2\n"
     ]
    }
   ],
   "source": [
    "name = \"Moon\"\n",
    "gravity = 0.00162 # in kms\n",
    "planet = \"Earth\"\n",
    "titulo = f'Gravity facts about the {name}' #hay otra manera de escribirlo, utilizando .format() donde dentro del parentesis ponemos la palabra de interes\n",
    "plantilla = f\"{'-'*50} \\nPlanet name: {planet} \\nGravity on {name}: {gravity*1000} m/s2\" #lo mismo de arriba, \\n nos sirve para dar un \"enter\"\n",
    "print(f'{titulo.title()} \\n {plantilla}')\n",
    "#nuevos datos\n",
    "planet = 'Marte'\n",
    "gravity  = 0.00143\n",
    "name = 'Ganímedes'\n",
    "print(f'{titulo.title()} \\n {plantilla}') #no se pueden reescribir las variables ya definidas"
   ]
  },
  {
   "cell_type": "code",
   "execution_count": 66,
   "metadata": {},
   "outputs": [
    {
     "name": "stdout",
     "output_type": "stream",
     "text": [
      "Gravity Facts About The Moon \n",
      " -------------------------------------------------- \n",
      "Planet name: Earth \n",
      "Gravity on Moon: 1.6199999999999999 m/s2\n",
      "----------------------------------------- \n",
      " \n",
      " \n",
      "-----------------------------------------\n",
      "Gravity Facts About The Ganímedes \n",
      "---------------------------------------------------- \n",
      "Planet name: Marte \n",
      "Gravity on Ganímedes: 1.4300000000000002 m/s2\n"
     ]
    }
   ],
   "source": [
    "#datos importantes\n",
    "name = \"Moon\"\n",
    "gravity = 0.00162 # in kms\n",
    "planet = \"Earth\"\n",
    "titulo = f'Gravity facts about the {name}' #hay otra manera de escribirlo, utilizando .format() donde dentro del parentesis ponemos la palabra de interes\n",
    "plantilla = f\"{'-'*50} \\nPlanet name: {planet} \\nGravity on {name}: {gravity*1000} m/s2\" #lo mismo de arriba, \\n nos sirve para dar un \"enter\"\n",
    "print(f'{titulo.title()} \\n {plantilla}')\n",
    "#nuevos datos\n",
    "print('----------------------------------------- \\n \\n \\n-----------------------------------------')\n",
    "planet = 'Marte'\n",
    "gravity  = 0.00143\n",
    "name = 'Ganímedes'\n",
    "#print(f'{titulo.title()} \\n {plantilla}') #no se pueden reescribir las variables ya definidas\n",
    "#nueva plantilla ya con titulo y cuerpo unidos\n",
    "nueva_plantilla = \"Gravity Facts About The {name} \\n---------------------------------------------------- \\nPlanet name: {planet} \\nGravity on {name}: {gravity} m/s2\"\n",
    "print(nueva_plantilla.format(name=name, planet=planet, gravity=gravity*1000)) #ya no utilizo f'' si no .format() colocando en parentesis las cosas con las que se llena la plantilla, indicando incluso las operaciones matematicas, ya que .format no permite operaciones"
   ]
  }
 ],
 "metadata": {
  "interpreter": {
   "hash": "94aef85099ef9726d49978f57a500edfb80549e56fdfb471c6cde1425d442709"
  },
  "kernelspec": {
   "display_name": "Python 3.10.2 64-bit",
   "language": "python",
   "name": "python3"
  },
  "language_info": {
   "codemirror_mode": {
    "name": "ipython",
    "version": 3
   },
   "file_extension": ".py",
   "mimetype": "text/x-python",
   "name": "python",
   "nbconvert_exporter": "python",
   "pygments_lexer": "ipython3",
   "version": "3.10.2"
  },
  "orig_nbformat": 4
 },
 "nbformat": 4,
 "nbformat_minor": 2
}
