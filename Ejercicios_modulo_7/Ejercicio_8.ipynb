{
 "cells": [
  {
   "cell_type": "markdown",
   "metadata": {},
   "source": [
    "# Ejercicio 1"
   ]
  },
  {
   "cell_type": "code",
   "execution_count": 6,
   "metadata": {},
   "outputs": [
    {
     "name": "stdout",
     "output_type": "stream",
     "text": [
      "['mercurio', 'venus', 'tierra', 'marte', 'jupiter', 'saturno', 'urano', 'neptuno']\n"
     ]
    }
   ],
   "source": [
    "#definimos variables\n",
    "new_planets = '' #aqui le digo que esa variable es un string\n",
    "planets = [] #aqui le digo a la variable que es una lista\n",
    "\n",
    "while new_planets.lower() != 'done': #aqui le decimo hacer un ciclo while donde checa el valor de new_planets en minusculas (por si el usuario escribio en mayusculas) que la palabra no sea 'done'\n",
    "    if new_planets: #entra aqui solo si 'new_planets' tiene un valor dentro, la primera vez que pasa por aqui el programa no entra debido a que la variable aun no tiene un valor definido\n",
    "        planets.append(new_planets) #recordando, el comando .append() agrega el valor dentro del parentesis a la lista que se definio anteriormente\n",
    "    new_planets = input(\"introduce el nombre de los planetas, cuando termines escribe la palabra 'done'.\")\n",
    "\n",
    "print(planets) #para verificar que efectivamente se guardaron todos los nombres"
   ]
  },
  {
   "cell_type": "markdown",
   "metadata": {},
   "source": [
    "# Ejercicio 2"
   ]
  },
  {
   "cell_type": "code",
   "execution_count": 8,
   "metadata": {},
   "outputs": [
    {
     "name": "stdout",
     "output_type": "stream",
     "text": [
      "mercurio\n",
      "venus\n",
      "tierra\n",
      "marte\n",
      "jupiter\n",
      "saturno\n",
      "urano\n",
      "neptuno\n"
     ]
    }
   ],
   "source": [
    "for planeta in planets: #aqui le digo que ponga cada uno de los elementos de la lista en la variable temporal 'planeta' y cada ves que entre al ciclo escriba lo que hay dentro de dicha variable\n",
    "    print(planeta)"
   ]
  }
 ],
 "metadata": {
  "interpreter": {
   "hash": "94aef85099ef9726d49978f57a500edfb80549e56fdfb471c6cde1425d442709"
  },
  "kernelspec": {
   "display_name": "Python 3.10.2 64-bit",
   "language": "python",
   "name": "python3"
  },
  "language_info": {
   "codemirror_mode": {
    "name": "ipython",
    "version": 3
   },
   "file_extension": ".py",
   "mimetype": "text/x-python",
   "name": "python",
   "nbconvert_exporter": "python",
   "pygments_lexer": "ipython3",
   "version": "3.10.2"
  },
  "orig_nbformat": 4
 },
 "nbformat": 4,
 "nbformat_minor": 2
}
