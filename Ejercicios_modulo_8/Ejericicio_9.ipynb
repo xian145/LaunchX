{
 "cells": [
  {
   "cell_type": "markdown",
   "metadata": {},
   "source": [
    "# Ejericio 1"
   ]
  },
  {
   "cell_type": "code",
   "execution_count": 7,
   "metadata": {},
   "outputs": [
    {
     "name": "stdout",
     "output_type": "stream",
     "text": [
      "el nombre del planeta marte y el numero de lunas que tiene es 2\n",
      "el nombre del planeta es marte, el numero de lunas que tiene el planeta son 2, su circunsferencia polar es 6752km y su circunsferemcia ecuatorial es 6792km\n"
     ]
    }
   ],
   "source": [
    "planet = {\n",
    "    'name' : 'marte', #entre comillas se pone la clave y en caso de ser string tambien se coloca entre comiallas\n",
    "    'moons' : 2 #aqui al tratarse de un numero el numero no lo pondremos entre comillas, pero la clave, si\n",
    "}\n",
    "\n",
    "print(f\"el nombre del planeta {planet.get('name')} y el numero de lunas que tiene es {planet['moons']}\") #se utilizaron las dos maneras en las que se puede llamar el valor dentro de un diccionario\n",
    "\n",
    "planet.update(circu ={ #eso se puede hacer con corchetes tambien\n",
    "    'polar' : 6752,\n",
    "    'equa' : 6792\n",
    "})\n",
    "\n",
    "#planet['circu'] = {\n",
    "#    'polar' : 6752,        #esta es la otra forma en la que se puede hacer lo que esta arriba\n",
    "#    'equa' : 6792\n",
    "#}\n",
    "\n",
    "print(f\"el nombre del planeta es {planet['name']}, el numero de lunas que tiene el planeta son {planet['moons']}, su circunsferencia polar es {planet['circu']['polar']}km y su circunsferemcia ecuatorial es {planet['circu']['equa']}km\")"
   ]
  },
  {
   "cell_type": "markdown",
   "metadata": {},
   "source": [
    "# Ejercicio 2"
   ]
  },
  {
   "cell_type": "code",
   "execution_count": 8,
   "metadata": {},
   "outputs": [
    {
     "name": "stdout",
     "output_type": "stream",
     "text": [
      "El numero total de satelites naturales en el sistema solar es 214 \n",
      "En promedio los planetas del sistema solar tienen 18 satelites naturales\n"
     ]
    }
   ],
   "source": [
    "planet_moons = { #diccionario que contiene el numero de lunas que tiene cada planeta\n",
    "    'mercury': 0,\n",
    "    'venus': 0,\n",
    "    'earth': 1,\n",
    "    'mars': 2,\n",
    "    'jupiter': 79,\n",
    "    'saturn': 82,\n",
    "    'uranus': 27,\n",
    "    'neptune': 14,\n",
    "    'pluto': 5,\n",
    "    'haumea': 2,\n",
    "    'makemake': 1,\n",
    "    'eris': 1\n",
    "}\n",
    "\n",
    "moons = planet_moons.values() #jala los valores del diccionario y los pone en una lista\n",
    "planetas = len(planet_moons.keys()) #saca el numero de claves que tiene el diccionario\n",
    "\n",
    "lunas_totales = int(0) #nos aseguramos que el valor de la variable este vacia\n",
    "for x in moons:\n",
    "    lunas_totales = lunas_totales + x #sumatoria\n",
    "\n",
    "promedio = lunas_totales/planetas\n",
    "\n",
    "print(f\"El numero total de satelites naturales en el sistema solar es {lunas_totales} \\nEn promedio los planetas del sistema solar tienen {round(promedio)} satelites naturales\")"
   ]
  }
 ],
 "metadata": {
  "interpreter": {
   "hash": "94aef85099ef9726d49978f57a500edfb80549e56fdfb471c6cde1425d442709"
  },
  "kernelspec": {
   "display_name": "Python 3.10.2 64-bit",
   "language": "python",
   "name": "python3"
  },
  "language_info": {
   "codemirror_mode": {
    "name": "ipython",
    "version": 3
   },
   "file_extension": ".py",
   "mimetype": "text/x-python",
   "name": "python",
   "nbconvert_exporter": "python",
   "pygments_lexer": "ipython3",
   "version": "3.10.2"
  },
  "orig_nbformat": 4
 },
 "nbformat": 4,
 "nbformat_minor": 2
}
