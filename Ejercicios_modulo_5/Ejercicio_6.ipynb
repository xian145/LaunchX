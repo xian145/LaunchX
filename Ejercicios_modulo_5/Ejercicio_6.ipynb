{
 "cells": [
  {
   "cell_type": "markdown",
   "metadata": {},
   "source": [
    "# Ejercicio 1"
   ]
  },
  {
   "cell_type": "code",
   "execution_count": 2,
   "metadata": {},
   "outputs": [
    {
     "name": "stdout",
     "output_type": "stream",
     "text": [
      "628949330km es la distnaicia entre jupiter y la tierra \n",
      "390810995 es la misma distancia, pero en millas redondeado\n"
     ]
    }
   ],
   "source": [
    "#variables\n",
    "d_tierra = 149597870\n",
    "d_jupiter = 778547200\n",
    "#los datos de arriba pudieran ser datos que se le pide al usuario utilizando el comando \"input()\"\n",
    "d1 = d_jupiter - d_tierra\n",
    "print(f'{d1}km es la distnaicia entre jupiter y la tierra \\n{round(d1/1.609344)} es la misma distancia, pero en millas redondeado')"
   ]
  },
  {
   "cell_type": "markdown",
   "metadata": {},
   "source": [
    "# Ejercicio 2"
   ]
  },
  {
   "cell_type": "code",
   "execution_count": 7,
   "metadata": {},
   "outputs": [
    {
     "name": "stdout",
     "output_type": "stream",
     "text": [
      "la distancia entre los dos planetas es 5km \n",
      "o bien en millas es 3.1068559611866697mi\n"
     ]
    }
   ],
   "source": [
    "#variables\n",
    "planeta_1 = int(input('cual es la distancia del sol al primer planeta')) #se le pide al usuario introducir la distnacia del sol a un planeta y se convierte atumaticamente en un entero con la funcion int()\n",
    "planeta_2 = int(input('cual es la distancia del sol al segundo planeta')) #lo mismo de arriba\n",
    "d_abs = abs(planeta_1 - planeta_2)\n",
    "print(f'la distancia entre los dos planetas es {d_abs}km \\no bien en millas es {d_abs/1.609344}mi')"
   ]
  }
 ],
 "metadata": {
  "interpreter": {
   "hash": "94aef85099ef9726d49978f57a500edfb80549e56fdfb471c6cde1425d442709"
  },
  "kernelspec": {
   "display_name": "Python 3.10.2 64-bit",
   "language": "python",
   "name": "python3"
  },
  "language_info": {
   "codemirror_mode": {
    "name": "ipython",
    "version": 3
   },
   "file_extension": ".py",
   "mimetype": "text/x-python",
   "name": "python",
   "nbconvert_exporter": "python",
   "pygments_lexer": "ipython3",
   "version": "3.10.2"
  },
  "orig_nbformat": 4
 },
 "nbformat": 4,
 "nbformat_minor": 2
}
