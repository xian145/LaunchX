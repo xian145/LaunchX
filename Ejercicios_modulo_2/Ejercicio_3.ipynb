{
 "cells": [
  {
   "cell_type": "markdown",
   "metadata": {},
   "source": [
    "# Ejercicio 1\n",
    "Para poder realizar el ejercicio tuve que hacer cosas ligeramente diferentes, en terminal coloque lo siguiente\n",
    "\n",
    "$ cd C:\\Users\\xian1\\Dropbox\\LaunchX\\Ejercicios_modulo_2\n",
    "\n",
    "Esto se hizo para cambiar de directerio a donde deseo crear el environment, lo siguiente fue utilizar el siguiente comando\n",
    "\n",
    "$ py -m env\n",
    "\n",
    "A diferencia de utilizar \"python3\", lo siguiente fue cambiar de carpeta utilizando:\n",
    "\n",
    "$ cd env\\Scripts\n",
    "\n",
    "Lo siguiente fue activar la terminal del environment con el comando:\n",
    "\n",
    "$ start activate\n",
    "\n",
    "![](../Recursos/imagen_1.png)\n",
    "\n",
    "Se abre una nueva consola que al inicio tiene \"(env)\" indicando el environment, usamos el siguiente comando para comprobar las librerias instaladas:\n",
    "\n",
    "$ pip freeze\n",
    "\n",
    "El cual no despliega nada, ya que no hay nada instalada, utilizamos el siguiente comando apra instalar una libreria:\n",
    "\n",
    "$ pip install python-dateutil\n",
    "\n",
    "Tras esperar el tiempo de instalacion podemos utilizar el comando:\n",
    "\n",
    "$ pip freeze\n",
    "\n",
    "Podemos comprobar que la libreria fue instalada, por ultimo para desactivar la terminal utilizamos el comando\n",
    "\n",
    "$ deactivate\n",
    "\n",
    "![](../Recursos/imagen_2.png)\n",
    "\n",
    "Fin."
   ]
  }
 ],
 "metadata": {
  "language_info": {
   "name": "python"
  },
  "orig_nbformat": 4
 },
 "nbformat": 4,
 "nbformat_minor": 2
}
