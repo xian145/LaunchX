{
 "cells": [
  {
   "cell_type": "markdown",
   "metadata": {},
   "source": [
    "# Ejercicio 1"
   ]
  },
  {
   "cell_type": "code",
   "execution_count": 2,
   "metadata": {},
   "outputs": [
    {
     "name": "stdout",
     "output_type": "stream",
     "text": [
      "El numero de planetas es 8\n",
      "Correccion, el numero de planetas es 9 y son los siguientes: \n",
      "['Mercurio', 'Venus', 'Tierra', 'Marte', 'Jupiter', 'Saturno', 'Urano', 'Neptuno', 'Pluton']\n"
     ]
    }
   ],
   "source": [
    "planets = ['Mercurio', 'Venus', 'Tierra', 'Marte', 'Jupiter', 'Saturno', 'Urano', 'Neptuno'] #lista de los planetas\n",
    "print(f'El numero de planetas es {len(planets)}')\n",
    "planets.append('Pluton')\n",
    "print(f'Correccion, el numero de planetas es {len(planets)} y son los siguientes: \\n{planets}')"
   ]
  },
  {
   "cell_type": "markdown",
   "metadata": {},
   "source": [
    "# Ejercicio 2"
   ]
  },
  {
   "cell_type": "code",
   "execution_count": 5,
   "metadata": {},
   "outputs": [
    {
     "name": "stdout",
     "output_type": "stream",
     "text": [
      "Los siguientes planetas son mas cercanos al sol, comparado al que usted ingreso ['Mercury', 'Venus'] \n",
      "Los siguientes son los planetas mas alejados ['Mars', 'Jupiter', 'Saturn', 'Neptune']\n"
     ]
    }
   ],
   "source": [
    "planets = ['Mercury', 'Venus', 'Earth', 'Mars', 'Jupiter', 'Saturn', 'Neptune'] #lista de planetas\n",
    "x = planets.index(input('Introduce el nombre de un planeta, iniciando la primera letra con mayuscula y en ingles')) #esto se puede cambiar utilizando .lower() pero se le tiene que decir que escriba todo en minuscula\n",
    "print(f'Los siguientes planetas son mas cercanos al sol, comparado al que usted ingreso {planets[0:x]} \\nLos siguientes son los planetas mas alejados {planets[x+1:]}') #planetas mas cercanos al sol comparado al del usuario y los mas lejanos"
   ]
  }
 ],
 "metadata": {
  "interpreter": {
   "hash": "94aef85099ef9726d49978f57a500edfb80549e56fdfb471c6cde1425d442709"
  },
  "kernelspec": {
   "display_name": "Python 3.10.2 64-bit",
   "language": "python",
   "name": "python3"
  },
  "language_info": {
   "codemirror_mode": {
    "name": "ipython",
    "version": 3
   },
   "file_extension": ".py",
   "mimetype": "text/x-python",
   "name": "python",
   "nbconvert_exporter": "python",
   "pygments_lexer": "ipython3",
   "version": "3.10.2"
  },
  "orig_nbformat": 4
 },
 "nbformat": 4,
 "nbformat_minor": 2
}
