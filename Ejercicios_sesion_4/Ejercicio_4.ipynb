{
 "cells": [
  {
   "cell_type": "markdown",
   "metadata": {},
   "source": [
    "# Ejercicio 1"
   ]
  },
  {
   "cell_type": "code",
   "execution_count": 2,
   "metadata": {},
   "outputs": [
    {
     "name": "stdout",
     "output_type": "stream",
     "text": [
      "ALERTA! CIUDADANOS DE LA TIERRA, UN ASTEROIDE SE DIRIJE PELIGROSAMENTE A LA TIERRA DE MANERA INMINENTE!\n"
     ]
    }
   ],
   "source": [
    "# Un asteroide se acerca, y viaja a una velocidad de 49 km/s.\n",
    "# Cualquier velocidad superior a 25 kilómetros por segundo (km/s) merece una advertencia\n",
    "# Añadir el código necesario para crear una variable que guarde la velocidad del asteroide.\n",
    "# Escribe una expresión de prueba para calcular si necesita una advertencia.\n",
    "# Agregue las instrucciones que se ejecutarán si la expresión de prueba es true o false.\n",
    "\n",
    "ast = 49 #inicialmente se nos dice la velocidad del asteroide en km/s, esto se pudiera modifica para que una persona entroduzca la velocidad de manera manual utilizando 'input'\n",
    "if ast > 25: # 25 km/s es el condicional que en caso de ser mayor la velocidad del asteroide a esta se debe alertar\n",
    "    print('ALERTA! CIUDADANOS DE LA TIERRA, UN ASTEROIDE SE DIRIJE PELIGROSAMENTE A LA TIERRA DE MANERA INMINENTE!') # mensaje en caso de que se cumpla el condicional (TRUE)\n",
    "else: # FALSE\n",
    "    print('Que tenga un buen dia') # mensaje en caso de que no se cumpla el icondicional (FALSE)"
   ]
  },
  {
   "cell_type": "markdown",
   "metadata": {},
   "source": [
    "# Ejercicio 2"
   ]
  },
  {
   "cell_type": "code",
   "execution_count": 8,
   "metadata": {},
   "outputs": [
    {
     "ename": "NameError",
     "evalue": "name 'asteroide' is not defined",
     "output_type": "error",
     "traceback": [
      "\u001b[1;31m---------------------------------------------------------------------------\u001b[0m",
      "\u001b[1;31mNameError\u001b[0m                                 Traceback (most recent call last)",
      "\u001b[1;32mc:\\Users\\xian1\\Dropbox\\Innovaccion\\Ejercicios_sesion_4\\Ejercicio_4.ipynb Cell 4'\u001b[0m in \u001b[0;36m<module>\u001b[1;34m\u001b[0m\n\u001b[0;32m      <a href='vscode-notebook-cell:/c%3A/Users/xian1/Dropbox/Innovaccion/Ejercicios_sesion_4/Ejercicio_4.ipynb#ch0000003?line=7'>8</a>\u001b[0m \u001b[39mif\u001b[39;00m ast \u001b[39m>\u001b[39m \u001b[39m20\u001b[39m: \u001b[39m# condicion para mandar mesanje de advertencia, en este caso que la velocidad del asteroide sea 20km/s o mayor\u001b[39;00m\n\u001b[0;32m      <a href='vscode-notebook-cell:/c%3A/Users/xian1/Dropbox/Innovaccion/Ejercicios_sesion_4/Ejercicio_4.ipynb#ch0000003?line=8'>9</a>\u001b[0m     \u001b[39mprint\u001b[39m(\u001b[39m'\u001b[39m\u001b[39mVoltear al cielo y buscar la luz!\u001b[39m\u001b[39m'\u001b[39m)\n\u001b[1;32m---> <a href='vscode-notebook-cell:/c%3A/Users/xian1/Dropbox/Innovaccion/Ejercicios_sesion_4/Ejercicio_4.ipynb#ch0000003?line=9'>10</a>\u001b[0m \u001b[39melif\u001b[39;00m asteroide \u001b[39m==\u001b[39m \u001b[39m20\u001b[39m: \u001b[39m# este en realidad no es necesario, ya que en el condicional anterior es posible utilizar el simbolo '>=' pero dado que se piden varios condicionales lo coloque por separado\u001b[39;00m\n\u001b[0;32m     <a href='vscode-notebook-cell:/c%3A/Users/xian1/Dropbox/Innovaccion/Ejercicios_sesion_4/Ejercicio_4.ipynb#ch0000003?line=10'>11</a>\u001b[0m     \u001b[39mprint\u001b[39m(\u001b[39m'\u001b[39m\u001b[39mVoltear al cielo y buscar la luz!\u001b[39m\u001b[39m'\u001b[39m)\n\u001b[0;32m     <a href='vscode-notebook-cell:/c%3A/Users/xian1/Dropbox/Innovaccion/Ejercicios_sesion_4/Ejercicio_4.ipynb#ch0000003?line=11'>12</a>\u001b[0m \u001b[39melse\u001b[39;00m: \u001b[39m# en caso de que la velocidad del asteroide no sea lo suficientemente rapida se desplegara el siguiente mensaje\u001b[39;00m\n",
      "\u001b[1;31mNameError\u001b[0m: name 'asteroide' is not defined"
     ]
    }
   ],
   "source": [
    "# Si un asteroide entra en la atmósfera de la Tierra a una velocidad mayor o igual a 20 km/s\n",
    "# ¡Hay uno que se dirige a la tierra ahora a una velocidad de 19 km/s!\n",
    "# Agrega el código para crear una variable para un asteroide que viaja a 19 km/s\n",
    "# Escribe varias expresiones de prueba para determinar si puedes ver el rayo de luz desde la tierra\n",
    "# Agrega las instrucciones que se ejecutarán si las expresiones de prueba son True o False\n",
    "\n",
    "ast = 19 # velocidad a la que se encunetra el asteroide al ingresar a la atmosfera terrestre\n",
    "if ast > 20: # condicion para mandar mesanje de advertencia, en este caso que la velocidad del asteroide sea 20km/s o mayor\n",
    "    print('Voltear al cielo y buscar la luz!')\n",
    "elif ast == 20: # este en realidad no es necesario, ya que en el condicional anterior es posible utilizar el simbolo '>=' pero dado que se piden varios condicionales lo coloque por separado\n",
    "    print('Voltear al cielo y buscar la luz!')\n",
    "else: # en caso de que la velocidad del asteroide no sea lo suficientemente rapida se desplegara el siguiente mensaje\n",
    "    print('Que tenga un buen dia')"
   ]
  },
  {
   "cell_type": "markdown",
   "metadata": {},
   "source": [
    "# Ejercicio 3"
   ]
  },
  {
   "cell_type": "code",
   "execution_count": 7,
   "metadata": {},
   "outputs": [
    {
     "name": "stdout",
     "output_type": "stream",
     "text": [
      "Voltear al cielo y buscar la luz\n"
     ]
    }
   ],
   "source": [
    "# Los asteroides de menos de 25 metros en su dimensión más grande probablemente se quemarán a medida que entren en la atmósfera de la Tierra.\n",
    "# Si una pieza de un asteroide que es más grande que 25 metros pero más pequeña que 1000 metros golpeara la Tierra, causaría mucho daño.\n",
    "# La velocidad del asteroide varía en función de lo cerca que esté del sol, y cualquier velocidad superior a 25 kilómetros por segundo (km/s) merece una advertencia.\n",
    "# Si un asteroide entra en la atmósfera de la Tierra a una velocidad mayor o igual a 20 km/s, a veces produce un rayo de luz que se puede ver desde la Tierra.\n",
    "# Agrega el código para crear nuevas variables para la velocidad y el tamaño del asteroide\n",
    "# Para probar el código, prueba con varias velocidades y tamaños\n",
    "# Escribe varias expresiones de prueba o combinaciones de expresiones de prueba para determinar qué mensaje se debe enviar a Tierra.\n",
    "\n",
    "v_ast = 25 # velocidad a la que se encuentra el asteroide en km/s\n",
    "size_ast = 40 # tamaño del asteoride en metros\n",
    "if v_ast > 25 and size_ast > 25: # condiciones bajo las cuales el asteroide representa un pelibro, algo que notiene mucho sentido en la descripcion es que diga sea menor a 1km, asi que no lo puse\n",
    "    print('ALERTA! CIUDADANOS DE LA TIERRA, UN ASTEROIDE SE DIRIJE PELIGROSAMENTE A LA TIERRA DE MANERA INMINENTE!') # mensaje de advertencia, que creo ya seria muy tarde, pero igual\n",
    "elif v_ast >= 20: # condicional parecido al anterior pero quitando la parte del tamaño y modificando la velocidad\n",
    "    print('Voltear al cielo y buscar la luz')\n",
    "elif size_ast < 25: # esto condicional entrara en vigor solo si lo anterior no se cumple Y el tamaño del asteroide es menor a 25m\n",
    "    print('Que tenga un buen dia')\n",
    "else: #en caso de que no se cumpla nada de lo anterior se desplegara el siguente mensaje\n",
    "    print('c:')"
   ]
  }
 ],
 "metadata": {
  "interpreter": {
   "hash": "94aef85099ef9726d49978f57a500edfb80549e56fdfb471c6cde1425d442709"
  },
  "kernelspec": {
   "display_name": "Python 3.10.2 64-bit",
   "language": "python",
   "name": "python3"
  },
  "language_info": {
   "codemirror_mode": {
    "name": "ipython",
    "version": 3
   },
   "file_extension": ".py",
   "mimetype": "text/x-python",
   "name": "python",
   "nbconvert_exporter": "python",
   "pygments_lexer": "ipython3",
   "version": "3.10.2"
  },
  "orig_nbformat": 4
 },
 "nbformat": 4,
 "nbformat_minor": 2
}
