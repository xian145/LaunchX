{
 "cells": [
  {
   "cell_type": "markdown",
   "metadata": {},
   "source": [
    "# Ejercicio 1"
   ]
  },
  {
   "cell_type": "code",
   "execution_count": 26,
   "metadata": {},
   "outputs": [
    {
     "name": "stdout",
     "output_type": "stream",
     "text": [
      "El estado de combustible de la nave es la siguiente: \n",
      "    Motor principal: 100%\n",
      "    Motor frontal: 60%\n",
      "    Motor superior: 80%\n",
      "    Combustible promedio: 80.0\n"
     ]
    }
   ],
   "source": [
    "#definimos la funcion que se puede llamar en cualquier momento, return basicamente realiza lo mismo que print()\n",
    "def combustible(main_engine, front_engine, upper_engine):\n",
    "    return f\"\"\"El estado de combustible de la nave es la siguiente: \n",
    "    Motor principal: {main_engine}%\n",
    "    Motor frontal: {front_engine}%\n",
    "    Motor superior: {upper_engine}%\n",
    "    Combustible promedio: {promedio(main_engine, front_engine, upper_engine)}\"\"\"\n",
    "\n",
    "def promedio(*valores): #aqui le digo que se introducen cualquier cantidad de datos\n",
    "    total = sum(valores) #suma de todos los valores que se le hayan asignado\n",
    "    numbero_de_valores = len(valores) #saber el tamaño de la lista que se dio\n",
    "    return total / numbero_de_valores\n",
    "\n",
    "#llamamos a la funcion con los valores que estan predeterminados, pero es posible pedir los datos al usuario\n",
    "print(combustible(100, 60, 80))\n",
    "\n",
    "#a = float(input())\n",
    "#b = float(input())\n",
    "#c = float(input())\n",
    "#print(combustible(a, b, c)) #introduce los valores que el usuario proporciono a la funcion"
   ]
  },
  {
   "cell_type": "markdown",
   "metadata": {},
   "source": [
    "# Ejercicio 2"
   ]
  },
  {
   "cell_type": "code",
   "execution_count": 28,
   "metadata": {},
   "outputs": [
    {
     "name": "stdout",
     "output_type": "stream",
     "text": [
      "Mision con destino a marte\n",
      "    Tomara un tiempo de 65 minutos a partir de prelanzamiento\n",
      "    Tanques de gasolina al 70.0%\n"
     ]
    }
   ],
   "source": [
    "#funcion definida, cuenta con argumentos numericos y strings\n",
    "def informe(prelanzamiento, t_vuelo, destino, tank_ext, tank_int):\n",
    "    return f\"\"\"Mision con destino a {destino}\n",
    "    Tomara un tiempo de {prelanzamiento + t_vuelo} minutos a partir de prelanzamiento\n",
    "    Tanques de gasolina al {(tank_ext + tank_int)/2}%\"\"\"\n",
    "\n",
    "print(informe(14, 51, 'marte', 50, 90)) #imprimimos lo que nos regresa la funcion"
   ]
  },
  {
   "cell_type": "code",
   "execution_count": 35,
   "metadata": {},
   "outputs": [
    {
     "name": "stdout",
     "output_type": "stream",
     "text": [
      "Mision con destino a marte\n",
      "    Tomara un tiempo de 76 minutos a partir de prelanzamiento\n",
      "    Tanques de gasolina al 65.0%\n",
      "    Main al 50% External al 80% \n"
     ]
    }
   ],
   "source": [
    "#nueva funcion con todo tipo de datos aceptables\n",
    "def informe(destino, *tiempo, **tanks_de_gasolina):\n",
    "    info = f\"\"\"Mision con destino a {destino}\n",
    "    Tomara un tiempo de {sum(tiempo)} minutos a partir de prelanzamiento\n",
    "    Tanques de gasolina al {(sum(tanks_de_gasolina.values()))/(len(tanks_de_gasolina.values()))}%\n",
    "    \"\"\"\n",
    "    for nombre, porcentaje in tanks_de_gasolina.items(): #.item() separa por parejas la keyword junto a su valor\n",
    "        info += f'{nombre} al {porcentaje}% '\n",
    "    return info\n",
    "\n",
    "print(informe(\"marte\", 10, 15, 51, Main=50, External=80))"
   ]
  }
 ],
 "metadata": {
  "interpreter": {
   "hash": "94aef85099ef9726d49978f57a500edfb80549e56fdfb471c6cde1425d442709"
  },
  "kernelspec": {
   "display_name": "Python 3.10.2 64-bit",
   "language": "python",
   "name": "python3"
  },
  "language_info": {
   "codemirror_mode": {
    "name": "ipython",
    "version": 3
   },
   "file_extension": ".py",
   "mimetype": "text/x-python",
   "name": "python",
   "nbconvert_exporter": "python",
   "pygments_lexer": "ipython3",
   "version": "3.10.2"
  },
  "orig_nbformat": 4
 },
 "nbformat": 4,
 "nbformat_minor": 2
}
